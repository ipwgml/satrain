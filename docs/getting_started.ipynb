{
 "cells": [
  {
   "cell_type": "markdown",
   "id": "943036ee-fc82-49e5-8c3a-700b8260da77",
   "metadata": {},
   "source": [
    "# Getting started\n",
    "\n",
    "The easiest way to get started using the SatRain dataset is through the ``satrain`` Python package. While the full dataset can be\n",
    "manually downloaded from [here](https://rain.atmos.colostate.edu/ipwgml/satrain/), the ``satrain`` package provides functionality to automate the data download and the loading of the training and testing data.\n",
    "\n",
    "\n",
    "## Installing the ``satrain`` package\n",
    "\n",
    "To install the latest version of satrain, use the following command:\n",
    "\n",
    "```\n",
    "pip install satrain[complete]@git+https://github.com/satrain/satrain\n",
    "```\n",
    "\n",
    "> **Note**: The above command installs all dependencies required to run the examples included here. If\n",
    "this is a concern, use ``pip install git+https://github.com/satrain/satrain`` for a minimal installation.\n",
    "\n",
    "## Accessing the Data\n",
    "\n",
    "Accessing the SatRain data from within Python is as easy as:"
   ]
  },
  {
   "cell_type": "code",
   "execution_count": 4,
   "id": "a57d297a-27c3-405c-9258-920217972d7e",
   "metadata": {},
   "outputs": [
    {
     "data": {
      "text/plain": [
       "['gmi', 'ancillary', 'target']"
      ]
     },
     "execution_count": 4,
     "metadata": {},
     "output_type": "execute_result"
    }
   ],
   "source": [
    "from satrain import get_files\n",
    "\n",
    "# Get a dictionary containing the training files for the GMI, ancillary, and precipitation reference data.\n",
    "training_files = get_files(\n",
    "    base_sensor=\"gmi\",\n",
    "    split=\"training\",\n",
    "    input_data=[\"gmi\", \"ancillary\"],\n",
    "    geometry=\"gridded\",\n",
    "    subset=\"s\"\n",
    ")\n",
    "list(training_files.keys())"
   ]
  },
  {
   "cell_type": "markdown",
   "id": "0f3f23fe-0db4-4401-8fca-bceb329c237c",
   "metadata": {},
   "source": [
    "This function will automatically download GMI observations, ancillary data, and the corresponding precipitation estimates and return a dictionary containing the paths of those files. This is all that is needed to get started using the data. Feel free to skip ahead to the neural net [examples](examples) to get started building precipitation retrievals using the dataset. Read on to learn how to configure where the SatRain data is stored on your machine."
   ]
  },
  {
   "cell_type": "markdown",
   "id": "efe1f4f4-4932-4d46-a489-f26021d12976",
   "metadata": {},
   "source": [
    "## Configuring the Data Location\n",
    "\n",
    "The ``satrain`` package expects the data files of the SatRain dataset to be located in a special path called the ``satrain_data_path``.  ``satrain`` does its best to keep track of the data path between subsequent\n",
    "invocations to avoid downloading data multiple times.\n",
    "\n",
    "After a fresh install, the ``data_path`` will be initialized to the current working directory from which the first download is invoked.\n",
    "To set an explicit data path, you can use the ``satrain config set_data_path`` command. This will create a ``satrain`` configuration file in the\n",
    "current user's configuration directory, which will allow the setting to persist for subsequent use of the ``satrain`` package. A configuration file storing the\n",
    "``data_path`` will also be created when the first data download is invoked.\n",
    "\n",
    "Alternatively, the ``data_path`` can be set using the ``SATRAIN_DATA_PATH`` environment\n",
    "variable. The path in ``SATRAIN_DATA_PATH`` will overwrite the setting in the user's configuration\n",
    "file.\n",
    "\n",
    "The ``satrain config show`` command can be used to find out the value of the ``satrain`` data path\n",
    "and how it is derived:\n",
    "\n",
    "```\n",
    "satrain config show\n",
    "```\n",
    "\n",
    "## Optional: Manual data download using the ``satrain`` command\n",
    "\n",
    "```{note}\n",
    "Most functionality of the ``satrain`` dataset that requires access to the SatRain dataset will automatically download the required files. Therefore, the following steps are not\n",
    "strictly required to get started using the package.\n",
    "```\n",
    "\n",
    "Use the satrain command-line interface to download parts or all of the SatRain dataset:\n",
    "\n",
    "```\n",
    "satrain download --data_path /path/to/store/data --sensors gmi --subset s --splits training,validation,testing --geometries gridded\n",
    "```\n",
    "\n",
    "This will download the gridded SatRain training, validation, and testing data. The ``satrain download`` command takes the following options:\n",
    "\n",
    " - ``--sensors`` A comma-separated lists of the sensors for which to download the data.\n",
    " - ``--subset`` The size of the subset to download. Choose ``xl`` for the full dataset.\n",
    " - ``--splits`` A comma-separated lists of the data splits to download. Available options are ``training``, ``validation``, ``testing``, and ``evaluation``.\n",
    " - ``--geometries`` A comma-separated lists of the data geometries. Available options are ``gridded`` for gridded\n",
    "   observations and ``on_swath`` for the data on the PMW swath.\n",
    " - ``--inputs`` A comma-separated list of the input data to download. Available options are ``ancillary``, ``geo``, ``geo_ir`` and ``pmw``.\n",
    " - ``--formats`` A comma-separated list of the data formats to download. Available options are ``spatial`` for 2D\n",
    "   training scenes and ``tabular`` for tabular data.\n",
    "   \n",
    "   \n",
    "## Listing available files\n",
    "\n",
    " The ``satrain list_files`` command can be used to list the files on the local machine\n",
    " that ``satrain`` is aware of. After a successful download, it should show a\n",
    " table listing relative locations of each dataset and how many files it\n",
    " comprises.\n",
    " \n",
    "```"
   ]
  }
 ],
 "metadata": {
  "kernelspec": {
   "display_name": "Python 3 (ipykernel)",
   "language": "python",
   "name": "python3"
  },
  "language_info": {
   "codemirror_mode": {
    "name": "ipython",
    "version": 3
   },
   "file_extension": ".py",
   "mimetype": "text/x-python",
   "name": "python",
   "nbconvert_exporter": "python",
   "pygments_lexer": "ipython3",
   "version": "3.13.5"
  }
 },
 "nbformat": 4,
 "nbformat_minor": 5
}
